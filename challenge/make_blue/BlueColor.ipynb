{
 "cells": [
  {
   "cell_type": "code",
   "execution_count": 1,
   "metadata": {},
   "outputs": [
    {
     "name": "stdout",
     "output_type": "stream",
     "text": [
      "sys.version_info(major=3, minor=6, micro=3, releaselevel='final', serial=0)\n"
     ]
    }
   ],
   "source": [
    "import sys\n",
    "print(sys.version_info)"
   ]
  },
  {
   "cell_type": "code",
   "execution_count": 3,
   "metadata": {},
   "outputs": [
    {
     "name": "stdout",
     "output_type": "stream",
     "text": [
      "???\n"
     ]
    }
   ],
   "source": [
    "import cv2\n",
    "import numpy as np\n",
    "\n",
    "#\n",
    "# read in an image\n",
    "#\n",
    "RGBTeam = cv2.imread('../../images/Jagbots2017.jpg')\n",
    "cv2.imshow(\"Original\", RGBTeam)\n",
    "\n",
    "#\n",
    "# split image into Blue, Green, and Red (BGR)\n",
    "#\n",
    "# note that when you call imshow here, you are passing in a 2D matrix (one of the three in an RGB image)\n",
    "# so you will get a grayscale rendering of that color\n",
    "#\n",
    "BTeam, GTeam, RTeam = cv2.split(RGBTeam)\n",
    "cv2.imshow(\"Blue\",BTeam)\n",
    "\n",
    "cv2.waitKey()\n",
    "\n",
    "#\n",
    "# You can also create some blank canvases, using numpy to create a 2D matrix\n",
    "#\n",
    "\n",
    "\n",
    "#\n",
    "# Clean-up\n",
    "#\n",
    "cv2.destroyAllWindows()"
   ]
  },
  {
   "cell_type": "markdown",
   "metadata": {},
   "source": [
    "In the above section, we were able to read an image in, and separate it using cv2.split into Blue, Green and Red.  We can then render an image in grayscale for one (or all) of the colors.  To get it to render in color, you need to give it three matrices, one for Blue, one for Red, and one for Green.\n",
    "\n",
    "If you want to show a single color, the easiest way is to pass it an \"empty\" for the other two colors.  \n",
    "\n",
    "This requires doing two things:\n",
    "* find the height and width of the image\n",
    "* create a matrix of the same size filled with zeros\n"
   ]
  },
  {
   "cell_type": "code",
   "execution_count": 2,
   "metadata": {},
   "outputs": [
    {
     "name": "stdout",
     "output_type": "stream",
     "text": [
      "Height is 816, Width is 1232\n"
     ]
    }
   ],
   "source": [
    "import cv2\n",
    "import numpy as np\n",
    "\n",
    "#\n",
    "# read in an image\n",
    "#\n",
    "RGBTeam = cv2.imread('../../images/Jagbots2017.jpg')\n",
    "cv2.imshow(\"Original\", RGBTeam)\n",
    "\n",
    "#\n",
    "# split image into Blue, Green, and Red (BGR)\n",
    "#\n",
    "# note that when you call imshow here, you are passing in a 2D matrix (one of the three in an RGB image)\n",
    "# so you will get a grayscale rendering of that color\n",
    "#\n",
    "BTeam, GTeam, RTeam = cv2.split(RGBTeam)\n",
    "cv2.imshow(\"Blue\",BTeam)\n",
    "\n",
    "cv2.waitKey()\n",
    "\n",
    "#\n",
    "# Lets find height and width of RGBTeam\n",
    "#\n",
    "(height, width) = RGBTeam.shape[:2]   # shape will return a \"tuple\" with 3 values, rows, columns and channels (if it is color)\n",
    "                                      # because we only need rows and columns, we call shape[:2] which returns 2 of the 3\n",
    "    \n",
    "print(f'Height is {height}, Width is {width}')  # this is called an f-string, very cool Python 3.6 feature!\n",
    "\n",
    "#\n",
    "# Create an empty matrix using numpy\n",
    "#\n",
    "empty = np.zeros((height,width), dtype= 'uint8') # this creates a matrix compatible with opencv, uint8 is an unsigned 8 bit integer\n",
    "\n",
    "#\n",
    "# Cleanup\n",
    "#\n",
    "cv2.destroyAllWindows()\n",
    "\n",
    "\n"
   ]
  },
  {
   "cell_type": "markdown",
   "metadata": {},
   "source": [
    "Now that you can separate the image into colors, and you can create an empty matrix of the same size, you just need to know how to put them back together again, which uses merge.  I'll demonstrate how to \"rebuild\" the original picture, and then you need to use a similar technique to build a unicolor image..."
   ]
  },
  {
   "cell_type": "code",
   "execution_count": 2,
   "metadata": {},
   "outputs": [
    {
     "name": "stdout",
     "output_type": "stream",
     "text": [
      "Height is 816, Width is 1232\n"
     ]
    }
   ],
   "source": [
    "import cv2\n",
    "import numpy as np\n",
    "\n",
    "#\n",
    "# read in an image\n",
    "#\n",
    "RGBTeam = cv2.imread('../../images/Jagbots2017.jpg')\n",
    "cv2.imshow(\"Original\", RGBTeam)\n",
    "\n",
    "#\n",
    "# split image into Blue, Green, and Red (BGR)\n",
    "#\n",
    "# note that when you call imshow here, you are passing in a 2D matrix (one of the three in an RGB image)\n",
    "# so you will get a grayscale rendering of that color\n",
    "#\n",
    "BTeam, GTeam, RTeam = cv2.split(RGBTeam)\n",
    "\n",
    "cv2.waitKey(0)\n",
    "\n",
    "#\n",
    "# Lets find height and width of RGBTeam\n",
    "#\n",
    "(height, width) = RGBTeam.shape[:2]   # shape will return a \"tuple\" with 3 values, rows, columns and channels (if it is color)\n",
    "                                      # because we only need rows and columns, we call shape[:2] which returns 2 of the 3\n",
    "    \n",
    "print(f'Height is {height}, Width is {width}')  # this is called an f-string, very cool Python 3.6 feature!\n",
    "\n",
    "#\n",
    "# Create an empty matrix using numpy\n",
    "#\n",
    "empty = np.zeros((height,width), dtype= 'uint8')\n",
    "\n",
    "#\n",
    "# Let's MERGE three channels together to make a color picture\n",
    "#\n",
    "NewColorImage = cv2.merge((BTeam, GTeam, RTeam))\n",
    "cv2.imshow(\"NewImage\", NewColorImage)\n",
    "\n",
    "cv2.waitKey()\n",
    "\n",
    "cv2.destroyAllWindows()\n"
   ]
  },
  {
   "cell_type": "markdown",
   "metadata": {},
   "source": [
    "In the code block below -- or in your own script file (you can copy and paste this), go ahead and create an image that only includes the \"blue\" channel.  You should end up with something like BlueTeam.jpg in the images directory.\n"
   ]
  },
  {
   "cell_type": "code",
   "execution_count": 1,
   "metadata": {},
   "outputs": [
    {
     "name": "stdout",
     "output_type": "stream",
     "text": [
      "Height is 816, Width is 1232\n"
     ]
    }
   ],
   "source": [
    "import cv2\n",
    "import numpy as np\n",
    "\n",
    "#\n",
    "# read in an image\n",
    "#\n",
    "RGBTeam = cv2.imread('../../images/Jagbots2017.jpg')\n",
    "cv2.imshow(\"Original\", RGBTeam)\n",
    "\n",
    "#\n",
    "# split image into Blue, Green, and Red (BGR)\n",
    "#\n",
    "# note that when you call imshow here, you are passing in a 2D matrix (one of the three in an RGB image)\n",
    "# so you will get a grayscale rendering of that color\n",
    "#\n",
    "BTeam, GTeam, RTeam = cv2.split(RGBTeam)\n",
    "\n",
    "cv2.waitKey(0)\n",
    "cv2.destroyAllWindows()\n",
    "\n",
    "#\n",
    "# Lets find height and width of RGBTeam\n",
    "#\n",
    "(height, width) = RGBTeam.shape[:2]   # shape will return a \"tuple\" with 3 values, rows, columns and channels (if it is color)\n",
    "                                      # because we only need rows and columns, we call shape[:2] which returns 2 of the 3\n",
    "    \n",
    "print(f'Height is {height}, Width is {width}')  # this is called an f-string, very cool Python 3.6 feature!\n",
    "\n",
    "#\n",
    "# Create an empty matrix using numpy\n",
    "#\n",
    "empty = np.zeros((height,width), dtype= 'uint8')\n",
    "\n",
    "#\n",
    "# Build a Blue Picture below....\n",
    "#\n",
    "\n",
    "# YOUR CODE HERE\n",
    "\n",
    "cv2.waitKey()\n",
    "\n",
    "#\n",
    "# Clean-up\n",
    "#\n",
    "cv2.destroyAllWindows()"
   ]
  }
 ],
 "metadata": {
  "kernelspec": {
   "display_name": "Python 3",
   "language": "python",
   "name": "python3"
  },
  "language_info": {
   "codemirror_mode": {
    "name": "ipython",
    "version": 3
   },
   "file_extension": ".py",
   "mimetype": "text/x-python",
   "name": "python",
   "nbconvert_exporter": "python",
   "pygments_lexer": "ipython3",
   "version": "3.6.3"
  }
 },
 "nbformat": 4,
 "nbformat_minor": 2
}
